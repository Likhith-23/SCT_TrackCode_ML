{
  "cells": [
    {
      "cell_type": "code",
      "source": [
        "\n",
        "\n",
        "import tensorflow as tf\n",
        "from tensorflow import keras\n",
        "from tensorflow.keras import layers\n",
        "import numpy as np\n",
        "import matplotlib.pyplot as plt\n",
        "import cv2\n",
        "\n",
        "\n",
        "def create_mock_dataset(num_samples_per_class=1000, img_size=(64, 64)):\n",
        "    \"\"\"\n",
        "    Generates a mock dataset of images and labels for hand gesture recognition.\n",
        "\n",
        "    Args:\n",
        "        num_samples_per_class (int): Number of images to generate for each gesture class.\n",
        "        img_size (tuple): The width and height of the generated images.\n",
        "\n",
        "    Returns:\n",
        "        tuple: A tuple containing preprocessed images (numpy array) and one-hot encoded labels (numpy array).\n",
        "    \"\"\"\n",
        "    gesture_classes = [\"Fist\", \"Open Hand\", \"Peace Sign\"]\n",
        "    num_classes = len(gesture_classes)\n",
        "    images = []\n",
        "    labels = []\n",
        "\n",
        "    print(\"Generating mock dataset...\")\n",
        "\n",
        "    for i, gesture in enumerate(gesture_classes):\n",
        "        print(f\"  - Generating samples for '{gesture}' gesture...\")\n",
        "        for _ in range(num_samples_per_class):\n",
        "\n",
        "            img = np.zeros(img_size, dtype=np.uint8)\n",
        "            img_h, img_w = img_size\n",
        "\n",
        "\n",
        "            if gesture == \"Fist\":\n",
        "\n",
        "                center = (np.random.randint(img_w // 4, 3 * img_w // 4),\n",
        "                          np.random.randint(img_h // 4, 3 * img_h // 4))\n",
        "                radius = np.random.randint(img_w // 6, img_w // 4)\n",
        "                cv2.circle(img, center, radius, 255, -1)\n",
        "            elif gesture == \"Open Hand\":\n",
        "\n",
        "                top_left = (np.random.randint(img_w // 8, img_w // 2),\n",
        "                            np.random.randint(img_h // 8, img_h // 2))\n",
        "                bottom_right = (top_left[0] + np.random.randint(img_w // 4, img_w // 2),\n",
        "                                top_left[1] + np.random.randint(img_h // 4, img_h // 2))\n",
        "                cv2.rectangle(img, top_left, bottom_right, 255, -1)\n",
        "            elif gesture == \"Peace Sign\":\n",
        "\n",
        "                pt1 = (np.random.randint(img_w // 8, img_w // 2),\n",
        "                       np.random.randint(img_h // 8, img_h // 2))\n",
        "                pt2 = (pt1[0] + np.random.randint(img_w // 6, img_w // 4),\n",
        "                       pt1[1] + np.random.randint(img_h // 6, img_h // 4))\n",
        "                cv2.line(img, pt1, pt2, 255, 3)\n",
        "\n",
        "                pt3 = (pt1[0], pt1[1] + np.random.randint(img_h // 6, img_h // 4))\n",
        "                pt4 = (pt3[0] + np.random.randint(img_w // 6, img_w // 4),\n",
        "                       pt3[1] + np.random.randint(img_h // 6, img_h // 4))\n",
        "                cv2.line(img, pt3, pt4, 255, 3)\n",
        "\n",
        "            images.append(img)\n",
        "            labels.append(i)\n",
        "\n",
        "    images = np.array(images, dtype='float32')\n",
        "    labels = np.array(labels)\n",
        "\n",
        "\n",
        "    images = np.expand_dims(images, axis=-1)\n",
        "\n",
        "\n",
        "    images /= 255.0\n",
        "\n",
        "\n",
        "    one_hot_labels = keras.utils.to_categorical(labels, num_classes=num_classes)\n",
        "\n",
        "    print(\"Dataset generation complete.\")\n",
        "    return images, one_hot_labels, gesture_classes\n",
        "\n",
        "\n",
        "def build_and_train_model(images, labels, num_classes, img_size):\n",
        "    \"\"\"\n",
        "    Builds, compiles, and trains a CNN model.\n",
        "\n",
        "    Args:\n",
        "        images (np.array): The input image data.\n",
        "        labels (np.array): The one-hot encoded labels.\n",
        "        num_classes (int): The number of gesture classes.\n",
        "        img_size (tuple): The dimensions of the input images.\n",
        "\n",
        "    Returns:\n",
        "        keras.Model: The trained model.\n",
        "    \"\"\"\n",
        "\n",
        "    split_index = int(0.8 * len(images))\n",
        "    train_images, test_images = images[:split_index], images[split_index:]\n",
        "    train_labels, test_labels = labels[:split_index], labels[split_index:]\n",
        "\n",
        "    print(\"\\nBuilding and training the model...\")\n",
        "\n",
        "    model = keras.Sequential([\n",
        "\n",
        "        layers.Conv2D(32, (3, 3), activation='relu', input_shape=(img_size[0], img_size[1], 1)),\n",
        "\n",
        "        layers.MaxPooling2D((2, 2)),\n",
        "\n",
        "        layers.Conv2D(64, (3, 3), activation='relu'),\n",
        "\n",
        "        layers.MaxPooling2D((2, 2)),\n",
        "\n",
        "        layers.Conv2D(64, (3, 3), activation='relu'),\n",
        "\n",
        "        layers.Flatten(),\n",
        "\n",
        "        layers.Dense(64, activation='relu'),\n",
        "\n",
        "        layers.Dense(num_classes, activation='softmax')\n",
        "    ])\n",
        "\n",
        "\n",
        "    model.compile(optimizer='adam',\n",
        "                  loss=keras.losses.CategoricalCrossentropy(),\n",
        "                  metrics=['accuracy'])\n",
        "\n",
        "\n",
        "    model.summary()\n",
        "\n",
        "\n",
        "    history = model.fit(train_images, train_labels, epochs=10,\n",
        "                        validation_data=(test_images, test_labels))\n",
        "\n",
        "\n",
        "    loss, accuracy = model.evaluate(test_images, test_labels, verbose=2)\n",
        "    print(f\"\\nModel evaluation on test data:\")\n",
        "    print(f\"  - Test Loss: {loss:.4f}\")\n",
        "    print(f\"  - Test Accuracy: {accuracy * 100:.2f}%\")\n",
        "\n",
        "    return model, test_images, test_labels\n",
        "\n",
        "\n",
        "def make_predictions_and_visualize(model, images, labels, gesture_classes):\n",
        "    \"\"\"\n",
        "    Makes predictions on a set of images and visualizes the results.\n",
        "\n",
        "    Args:\n",
        "        model (keras.Model): The trained model.\n",
        "        images (np.array): The image data to predict on.\n",
        "        labels (np.array): The true labels for the images.\n",
        "        gesture_classes (list): A list of the gesture class names.\n",
        "    \"\"\"\n",
        "    print(\"\\nMaking predictions and visualizing results...\")\n",
        "\n",
        "\n",
        "    num_predictions_to_show = 5\n",
        "    indices = np.random.choice(len(images), num_predictions_to_show, replace=False)\n",
        "    sample_images = images[indices]\n",
        "    sample_true_labels = np.argmax(labels[indices], axis=1)\n",
        "\n",
        "\n",
        "    predictions = model.predict(sample_images)\n",
        "    predicted_labels = np.argmax(predictions, axis=1)\n",
        "\n",
        "\n",
        "    plt.figure(figsize=(15, 5))\n",
        "    plt.suptitle(\"Model Predictions vs. True Labels\", fontsize=16)\n",
        "\n",
        "    for i in range(num_predictions_to_show):\n",
        "        plt.subplot(1, num_predictions_to_show, i + 1)\n",
        "\n",
        "        plt.imshow(sample_images[i].reshape(64, 64), cmap='gray')\n",
        "\n",
        "\n",
        "        predicted_gesture = gesture_classes[predicted_labels[i]]\n",
        "        true_gesture = gesture_classes[sample_true_labels[i]]\n",
        "\n",
        "        color = 'green' if predicted_gesture == true_gesture else 'red'\n",
        "        title = f\"Predicted: {predicted_gesture}\\nTrue: {true_gesture}\"\n",
        "        plt.title(title, color=color)\n",
        "        plt.axis('off')\n",
        "\n",
        "    plt.tight_layout()\n",
        "    plt.show()\n",
        "\n",
        "\n",
        "if __name__ == \"__main__\":\n",
        "    try:\n",
        "\n",
        "        physical_devices = tf.config.list_physical_devices('GPU')\n",
        "        if physical_devices:\n",
        "            print(f\"Using GPU: {physical_devices[0]}\")\n",
        "        else:\n",
        "            print(\"No GPU found. Using CPU.\")\n",
        "\n",
        "\n",
        "        IMAGE_SIZE = (64, 64)\n",
        "        NUM_CLASSES = 3\n",
        "\n",
        "        images, labels, gesture_classes = create_mock_dataset(img_size=IMAGE_SIZE)\n",
        "\n",
        "        trained_model, test_images, test_labels = build_and_train_model(\n",
        "            images, labels, NUM_CLASSES, IMAGE_SIZE\n",
        "        )\n",
        "\n",
        "\n",
        "        make_predictions_and_visualize(trained_model, test_images, test_labels, gesture_classes)\n",
        "\n",
        "        print(\"\\nScript execution finished successfully.\")\n",
        "\n",
        "    except Exception as e:\n",
        "        print(f\"An error occurred: {e}\")"
      ],
      "outputs": [
        {
          "output_type": "stream",
          "name": "stdout",
          "text": [
            "No GPU found. Using CPU.\n",
            "Generating mock dataset...\n",
            "  - Generating samples for 'Fist' gesture...\n",
            "  - Generating samples for 'Open Hand' gesture...\n",
            "  - Generating samples for 'Peace Sign' gesture...\n",
            "Dataset generation complete.\n",
            "\n",
            "Building and training the model...\n"
          ]
        },
        {
          "output_type": "stream",
          "name": "stderr",
          "text": [
            "/usr/local/lib/python3.12/dist-packages/keras/src/layers/convolutional/base_conv.py:113: UserWarning: Do not pass an `input_shape`/`input_dim` argument to a layer. When using Sequential models, prefer using an `Input(shape)` object as the first layer in the model instead.\n",
            "  super().__init__(activity_regularizer=activity_regularizer, **kwargs)\n"
          ]
        },
        {
          "output_type": "display_data",
          "data": {
            "text/plain": [
              "\u001b[1mModel: \"sequential\"\u001b[0m\n"
            ],
            "text/html": [
              "<pre style=\"white-space:pre;overflow-x:auto;line-height:normal;font-family:Menlo,'DejaVu Sans Mono',consolas,'Courier New',monospace\"><span style=\"font-weight: bold\">Model: \"sequential\"</span>\n",
              "</pre>\n"
            ]
          },
          "metadata": {}
        },
        {
          "output_type": "display_data",
          "data": {
            "text/plain": [
              "┏━━━━━━━━━━━━━━━━━━━━━━━━━━━━━━━━━┳━━━━━━━━━━━━━━━━━━━━━━━━┳━━━━━━━━━━━━━━━┓\n",
              "┃\u001b[1m \u001b[0m\u001b[1mLayer (type)                   \u001b[0m\u001b[1m \u001b[0m┃\u001b[1m \u001b[0m\u001b[1mOutput Shape          \u001b[0m\u001b[1m \u001b[0m┃\u001b[1m \u001b[0m\u001b[1m      Param #\u001b[0m\u001b[1m \u001b[0m┃\n",
              "┡━━━━━━━━━━━━━━━━━━━━━━━━━━━━━━━━━╇━━━━━━━━━━━━━━━━━━━━━━━━╇━━━━━━━━━━━━━━━┩\n",
              "│ conv2d (\u001b[38;5;33mConv2D\u001b[0m)                 │ (\u001b[38;5;45mNone\u001b[0m, \u001b[38;5;34m62\u001b[0m, \u001b[38;5;34m62\u001b[0m, \u001b[38;5;34m32\u001b[0m)     │           \u001b[38;5;34m320\u001b[0m │\n",
              "├─────────────────────────────────┼────────────────────────┼───────────────┤\n",
              "│ max_pooling2d (\u001b[38;5;33mMaxPooling2D\u001b[0m)    │ (\u001b[38;5;45mNone\u001b[0m, \u001b[38;5;34m31\u001b[0m, \u001b[38;5;34m31\u001b[0m, \u001b[38;5;34m32\u001b[0m)     │             \u001b[38;5;34m0\u001b[0m │\n",
              "├─────────────────────────────────┼────────────────────────┼───────────────┤\n",
              "│ conv2d_1 (\u001b[38;5;33mConv2D\u001b[0m)               │ (\u001b[38;5;45mNone\u001b[0m, \u001b[38;5;34m29\u001b[0m, \u001b[38;5;34m29\u001b[0m, \u001b[38;5;34m64\u001b[0m)     │        \u001b[38;5;34m18,496\u001b[0m │\n",
              "├─────────────────────────────────┼────────────────────────┼───────────────┤\n",
              "│ max_pooling2d_1 (\u001b[38;5;33mMaxPooling2D\u001b[0m)  │ (\u001b[38;5;45mNone\u001b[0m, \u001b[38;5;34m14\u001b[0m, \u001b[38;5;34m14\u001b[0m, \u001b[38;5;34m64\u001b[0m)     │             \u001b[38;5;34m0\u001b[0m │\n",
              "├─────────────────────────────────┼────────────────────────┼───────────────┤\n",
              "│ conv2d_2 (\u001b[38;5;33mConv2D\u001b[0m)               │ (\u001b[38;5;45mNone\u001b[0m, \u001b[38;5;34m12\u001b[0m, \u001b[38;5;34m12\u001b[0m, \u001b[38;5;34m64\u001b[0m)     │        \u001b[38;5;34m36,928\u001b[0m │\n",
              "├─────────────────────────────────┼────────────────────────┼───────────────┤\n",
              "│ flatten (\u001b[38;5;33mFlatten\u001b[0m)               │ (\u001b[38;5;45mNone\u001b[0m, \u001b[38;5;34m9216\u001b[0m)           │             \u001b[38;5;34m0\u001b[0m │\n",
              "├─────────────────────────────────┼────────────────────────┼───────────────┤\n",
              "│ dense (\u001b[38;5;33mDense\u001b[0m)                   │ (\u001b[38;5;45mNone\u001b[0m, \u001b[38;5;34m64\u001b[0m)             │       \u001b[38;5;34m589,888\u001b[0m │\n",
              "├─────────────────────────────────┼────────────────────────┼───────────────┤\n",
              "│ dense_1 (\u001b[38;5;33mDense\u001b[0m)                 │ (\u001b[38;5;45mNone\u001b[0m, \u001b[38;5;34m3\u001b[0m)              │           \u001b[38;5;34m195\u001b[0m │\n",
              "└─────────────────────────────────┴────────────────────────┴───────────────┘\n"
            ],
            "text/html": [
              "<pre style=\"white-space:pre;overflow-x:auto;line-height:normal;font-family:Menlo,'DejaVu Sans Mono',consolas,'Courier New',monospace\">┏━━━━━━━━━━━━━━━━━━━━━━━━━━━━━━━━━┳━━━━━━━━━━━━━━━━━━━━━━━━┳━━━━━━━━━━━━━━━┓\n",
              "┃<span style=\"font-weight: bold\"> Layer (type)                    </span>┃<span style=\"font-weight: bold\"> Output Shape           </span>┃<span style=\"font-weight: bold\">       Param # </span>┃\n",
              "┡━━━━━━━━━━━━━━━━━━━━━━━━━━━━━━━━━╇━━━━━━━━━━━━━━━━━━━━━━━━╇━━━━━━━━━━━━━━━┩\n",
              "│ conv2d (<span style=\"color: #0087ff; text-decoration-color: #0087ff\">Conv2D</span>)                 │ (<span style=\"color: #00d7ff; text-decoration-color: #00d7ff\">None</span>, <span style=\"color: #00af00; text-decoration-color: #00af00\">62</span>, <span style=\"color: #00af00; text-decoration-color: #00af00\">62</span>, <span style=\"color: #00af00; text-decoration-color: #00af00\">32</span>)     │           <span style=\"color: #00af00; text-decoration-color: #00af00\">320</span> │\n",
              "├─────────────────────────────────┼────────────────────────┼───────────────┤\n",
              "│ max_pooling2d (<span style=\"color: #0087ff; text-decoration-color: #0087ff\">MaxPooling2D</span>)    │ (<span style=\"color: #00d7ff; text-decoration-color: #00d7ff\">None</span>, <span style=\"color: #00af00; text-decoration-color: #00af00\">31</span>, <span style=\"color: #00af00; text-decoration-color: #00af00\">31</span>, <span style=\"color: #00af00; text-decoration-color: #00af00\">32</span>)     │             <span style=\"color: #00af00; text-decoration-color: #00af00\">0</span> │\n",
              "├─────────────────────────────────┼────────────────────────┼───────────────┤\n",
              "│ conv2d_1 (<span style=\"color: #0087ff; text-decoration-color: #0087ff\">Conv2D</span>)               │ (<span style=\"color: #00d7ff; text-decoration-color: #00d7ff\">None</span>, <span style=\"color: #00af00; text-decoration-color: #00af00\">29</span>, <span style=\"color: #00af00; text-decoration-color: #00af00\">29</span>, <span style=\"color: #00af00; text-decoration-color: #00af00\">64</span>)     │        <span style=\"color: #00af00; text-decoration-color: #00af00\">18,496</span> │\n",
              "├─────────────────────────────────┼────────────────────────┼───────────────┤\n",
              "│ max_pooling2d_1 (<span style=\"color: #0087ff; text-decoration-color: #0087ff\">MaxPooling2D</span>)  │ (<span style=\"color: #00d7ff; text-decoration-color: #00d7ff\">None</span>, <span style=\"color: #00af00; text-decoration-color: #00af00\">14</span>, <span style=\"color: #00af00; text-decoration-color: #00af00\">14</span>, <span style=\"color: #00af00; text-decoration-color: #00af00\">64</span>)     │             <span style=\"color: #00af00; text-decoration-color: #00af00\">0</span> │\n",
              "├─────────────────────────────────┼────────────────────────┼───────────────┤\n",
              "│ conv2d_2 (<span style=\"color: #0087ff; text-decoration-color: #0087ff\">Conv2D</span>)               │ (<span style=\"color: #00d7ff; text-decoration-color: #00d7ff\">None</span>, <span style=\"color: #00af00; text-decoration-color: #00af00\">12</span>, <span style=\"color: #00af00; text-decoration-color: #00af00\">12</span>, <span style=\"color: #00af00; text-decoration-color: #00af00\">64</span>)     │        <span style=\"color: #00af00; text-decoration-color: #00af00\">36,928</span> │\n",
              "├─────────────────────────────────┼────────────────────────┼───────────────┤\n",
              "│ flatten (<span style=\"color: #0087ff; text-decoration-color: #0087ff\">Flatten</span>)               │ (<span style=\"color: #00d7ff; text-decoration-color: #00d7ff\">None</span>, <span style=\"color: #00af00; text-decoration-color: #00af00\">9216</span>)           │             <span style=\"color: #00af00; text-decoration-color: #00af00\">0</span> │\n",
              "├─────────────────────────────────┼────────────────────────┼───────────────┤\n",
              "│ dense (<span style=\"color: #0087ff; text-decoration-color: #0087ff\">Dense</span>)                   │ (<span style=\"color: #00d7ff; text-decoration-color: #00d7ff\">None</span>, <span style=\"color: #00af00; text-decoration-color: #00af00\">64</span>)             │       <span style=\"color: #00af00; text-decoration-color: #00af00\">589,888</span> │\n",
              "├─────────────────────────────────┼────────────────────────┼───────────────┤\n",
              "│ dense_1 (<span style=\"color: #0087ff; text-decoration-color: #0087ff\">Dense</span>)                 │ (<span style=\"color: #00d7ff; text-decoration-color: #00d7ff\">None</span>, <span style=\"color: #00af00; text-decoration-color: #00af00\">3</span>)              │           <span style=\"color: #00af00; text-decoration-color: #00af00\">195</span> │\n",
              "└─────────────────────────────────┴────────────────────────┴───────────────┘\n",
              "</pre>\n"
            ]
          },
          "metadata": {}
        },
        {
          "output_type": "display_data",
          "data": {
            "text/plain": [
              "\u001b[1m Total params: \u001b[0m\u001b[38;5;34m645,827\u001b[0m (2.46 MB)\n"
            ],
            "text/html": [
              "<pre style=\"white-space:pre;overflow-x:auto;line-height:normal;font-family:Menlo,'DejaVu Sans Mono',consolas,'Courier New',monospace\"><span style=\"font-weight: bold\"> Total params: </span><span style=\"color: #00af00; text-decoration-color: #00af00\">645,827</span> (2.46 MB)\n",
              "</pre>\n"
            ]
          },
          "metadata": {}
        },
        {
          "output_type": "display_data",
          "data": {
            "text/plain": [
              "\u001b[1m Trainable params: \u001b[0m\u001b[38;5;34m645,827\u001b[0m (2.46 MB)\n"
            ],
            "text/html": [
              "<pre style=\"white-space:pre;overflow-x:auto;line-height:normal;font-family:Menlo,'DejaVu Sans Mono',consolas,'Courier New',monospace\"><span style=\"font-weight: bold\"> Trainable params: </span><span style=\"color: #00af00; text-decoration-color: #00af00\">645,827</span> (2.46 MB)\n",
              "</pre>\n"
            ]
          },
          "metadata": {}
        },
        {
          "output_type": "display_data",
          "data": {
            "text/plain": [
              "\u001b[1m Non-trainable params: \u001b[0m\u001b[38;5;34m0\u001b[0m (0.00 B)\n"
            ],
            "text/html": [
              "<pre style=\"white-space:pre;overflow-x:auto;line-height:normal;font-family:Menlo,'DejaVu Sans Mono',consolas,'Courier New',monospace\"><span style=\"font-weight: bold\"> Non-trainable params: </span><span style=\"color: #00af00; text-decoration-color: #00af00\">0</span> (0.00 B)\n",
              "</pre>\n"
            ]
          },
          "metadata": {}
        },
        {
          "output_type": "stream",
          "name": "stdout",
          "text": [
            "Epoch 1/10\n",
            "\u001b[1m75/75\u001b[0m \u001b[32m━━━━━━━━━━━━━━━━━━━━\u001b[0m\u001b[37m\u001b[0m \u001b[1m22s\u001b[0m 228ms/step - accuracy: 0.6765 - loss: 0.6386 - val_accuracy: 1.0000 - val_loss: 0.0022\n",
            "Epoch 2/10\n",
            "\u001b[1m75/75\u001b[0m \u001b[32m━━━━━━━━━━━━━━━━━━━━\u001b[0m\u001b[37m\u001b[0m \u001b[1m14s\u001b[0m 184ms/step - accuracy: 1.0000 - loss: 0.0015 - val_accuracy: 1.0000 - val_loss: 2.4046e-04\n",
            "Epoch 3/10\n",
            "\u001b[1m75/75\u001b[0m \u001b[32m━━━━━━━━━━━━━━━━━━━━\u001b[0m\u001b[37m\u001b[0m \u001b[1m22s\u001b[0m 200ms/step - accuracy: 1.0000 - loss: 2.6104e-04 - val_accuracy: 1.0000 - val_loss: 1.1812e-04\n",
            "Epoch 4/10\n",
            "\u001b[1m75/75\u001b[0m \u001b[32m━━━━━━━━━━━━━━━━━━━━\u001b[0m\u001b[37m\u001b[0m \u001b[1m13s\u001b[0m 173ms/step - accuracy: 1.0000 - loss: 1.4997e-04 - val_accuracy: 1.0000 - val_loss: 6.2334e-05\n",
            "Epoch 5/10\n",
            "\u001b[1m75/75\u001b[0m \u001b[32m━━━━━━━━━━━━━━━━━━━━\u001b[0m\u001b[37m\u001b[0m \u001b[1m21s\u001b[0m 180ms/step - accuracy: 1.0000 - loss: 7.3992e-05 - val_accuracy: 1.0000 - val_loss: 4.8346e-05\n",
            "Epoch 6/10\n",
            "\u001b[1m75/75\u001b[0m \u001b[32m━━━━━━━━━━━━━━━━━━━━\u001b[0m\u001b[37m\u001b[0m \u001b[1m21s\u001b[0m 187ms/step - accuracy: 1.0000 - loss: 4.2176e-05 - val_accuracy: 1.0000 - val_loss: 4.7064e-05\n",
            "Epoch 7/10\n",
            "\u001b[1m75/75\u001b[0m \u001b[32m━━━━━━━━━━━━━━━━━━━━\u001b[0m\u001b[37m\u001b[0m \u001b[1m20s\u001b[0m 185ms/step - accuracy: 1.0000 - loss: 3.4587e-05 - val_accuracy: 1.0000 - val_loss: 3.2538e-05\n",
            "Epoch 8/10\n",
            "\u001b[1m75/75\u001b[0m \u001b[32m━━━━━━━━━━━━━━━━━━━━\u001b[0m\u001b[37m\u001b[0m \u001b[1m21s\u001b[0m 192ms/step - accuracy: 1.0000 - loss: 1.8389e-05 - val_accuracy: 1.0000 - val_loss: 2.6954e-05\n",
            "Epoch 9/10\n",
            "\u001b[1m75/75\u001b[0m \u001b[32m━━━━━━━━━━━━━━━━━━━━\u001b[0m\u001b[37m\u001b[0m \u001b[1m20s\u001b[0m 187ms/step - accuracy: 1.0000 - loss: 1.3271e-05 - val_accuracy: 1.0000 - val_loss: 2.0775e-05\n",
            "Epoch 10/10\n",
            "\u001b[1m75/75\u001b[0m \u001b[32m━━━━━━━━━━━━━━━━━━━━\u001b[0m\u001b[37m\u001b[0m \u001b[1m20s\u001b[0m 184ms/step - accuracy: 1.0000 - loss: 1.0603e-05 - val_accuracy: 1.0000 - val_loss: 1.6803e-05\n",
            "19/19 - 1s - 41ms/step - accuracy: 1.0000 - loss: 1.6803e-05\n",
            "\n",
            "Model evaluation on test data:\n",
            "  - Test Loss: 0.0000\n",
            "  - Test Accuracy: 100.00%\n",
            "\n",
            "Making predictions and visualizing results...\n",
            "\u001b[1m1/1\u001b[0m \u001b[32m━━━━━━━━━━━━━━━━━━━━\u001b[0m\u001b[37m\u001b[0m \u001b[1m0s\u001b[0m 115ms/step\n"
          ]
        },
        {
          "output_type": "display_data",
          "data": {
            "text/plain": [
              "<Figure size 1500x500 with 5 Axes>"
            ],
            "image/png": "[encoded data removed]"
          },
          "metadata": {}
        },
        {
          "output_type": "stream",
          "name": "stdout",
          "text": [
            "\n",
            "Script execution finished successfully.\n"
          ]
        }
      ],
      "execution_count": 1,
      "metadata": {
        "colab": {
          "base_uri": "https://localhost:8080/",
          "height": 1000
        },
        "id": "dTxDZuIxAr_V",
        "outputId": "34cde5e1-e766-42f2-990a-1bbfe0169855"
      }
    }
  ],
  "metadata": {
    "colab": {
      "provenance": []
    },
    "kernelspec": {
      "display_name": "Python 3",
      "name": "python3"
    }
  },
  "nbformat": 4,
  "nbformat_minor": 0
}